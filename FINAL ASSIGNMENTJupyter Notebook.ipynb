{
 "cells": [
  {
   "cell_type": "markdown",
   "metadata": {},
   "source": [
    "# My Jupyter Notebook on IBM Data Science Experience"
   ]
  },
  {
   "cell_type": "markdown",
   "metadata": {},
   "source": [
    "**Tamara Rosenberg**\n",
    "\n",
    "After years in Commercial Real Estate utilizing analytics created by others, I realize I can be much more valuable (and employable!) by understanding how to crunch the numbers myself.  "
   ]
  },
  {
   "cell_type": "markdown",
   "metadata": {},
   "source": [
    "*I've always been excited by the data that I received from our analitics teams. I have excelled at using that data to create and deploy strategies, motivate teams and complete projects. But, especially in such a strange new environment, the more skills I can add to my toolkit, the better. And this way, I'll never have to wait for someone else to analyze for me again!*"
   ]
  },
  {
   "cell_type": "markdown",
   "metadata": {},
   "source": [
    "### The code below is meant to render the current date/time when run ###"
   ]
  },
  {
   "cell_type": "code",
   "execution_count": 2,
   "metadata": {},
   "outputs": [
    {
     "name": "stdout",
     "output_type": "stream",
     "text": [
      "5/4/2020 19:28:4\n"
     ]
    }
   ],
   "source": [
    "from datetime import datetime\n",
    "\n",
    "now = datetime.now()\n",
    "\n",
    "mm = str(now.month)\n",
    "\n",
    "dd = str(now.day)\n",
    "\n",
    "yyyy = str(now.year)\n",
    "\n",
    "hour = str(now.hour)\n",
    "\n",
    "mi = str(now.minute)\n",
    "\n",
    "ss = str(now.second)\n",
    "\n",
    "print (mm + \"/\" + dd + \"/\" + yyyy + \" \" + hour + \":\" + mi + \":\" + ss)"
   ]
  },
  {
   "cell_type": "markdown",
   "metadata": {},
   "source": [
    "<mark style=\"background-color: #ffffcc\">Today is the first day of the rest of your life</mark>\n",
    "\n",
    "<hr style=\"width: 100%; height: 8px; display: block; margin: 0 auto; border: none; box-shadow: 3px 3px 6px #0e0e0e; background-color: #c61aff\"/><br>\n",
    "\n",
    "Have you:\n",
    "<ul>\n",
    "<li>Called a friend?</li>\n",
    "<li>Smelled the roses?</li>\n",
    "<li>Enjoyed the sunshine?</li>\n",
    "<li>Done something new?</li>\n",
    "</ul>    \n",
    "\n",
    <a href=“https://www.lifehack.org/articles/featured/learn-something-new-every-day.html”>Try this article from lifehack to get started.</a>
    
    "<H1><font color=\"#5c5cd6\"> HAVE A GREAT DAY!!!</H1></font color>\n",
    "\n",
    "<img src=\"https://upload.wikimedia.org/wikipedia/commons/f/f4/Yellow_Portulaca_flower_in_sunshine%2C_on_black_background.jpg\">\n"
   ]
  },
  {
   "cell_type": "code",
   "execution_count": null,
   "metadata": {},
   "outputs": [],
   "source": []
  }
 ],
 "metadata": {
  "kernelspec": {
   "display_name": "Python",
   "language": "python",
   "name": "conda-env-python-py"
  },
  "language_info": {
   "codemirror_mode": {
    "name": "ipython",
    "version": 3
   },
   "file_extension": ".py",
   "mimetype": "text/x-python",
   "name": "python",
   "nbconvert_exporter": "python",
   "pygments_lexer": "ipython3",
   "version": "3.6.10"
  }
 },
 "nbformat": 4,
 "nbformat_minor": 4
}
